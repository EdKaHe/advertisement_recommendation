{
 "cells": [
  {
   "cell_type": "code",
   "execution_count": 7,
   "metadata": {},
   "outputs": [
    {
     "data": {
      "text/html": [
       "<script type=\"text/javascript\">window.PlotlyConfig = {MathJaxConfig: 'local'};</script><script type=\"text/javascript\">if (window.MathJax) {MathJax.Hub.Config({SVG: {font: \"STIX-Web\"}});}</script><script>requirejs.config({paths: { 'plotly': ['https://cdn.plot.ly/plotly-latest.min']},});if(!window._Plotly) {require(['plotly'],function(plotly) {window._Plotly=plotly;});}</script>"
      ],
      "text/vnd.plotly.v1+html": [
       "<script type=\"text/javascript\">window.PlotlyConfig = {MathJaxConfig: 'local'};</script><script type=\"text/javascript\">if (window.MathJax) {MathJax.Hub.Config({SVG: {font: \"STIX-Web\"}});}</script><script>requirejs.config({paths: { 'plotly': ['https://cdn.plot.ly/plotly-latest.min']},});if(!window._Plotly) {require(['plotly'],function(plotly) {window._Plotly=plotly;});}</script>"
      ]
     },
     "metadata": {},
     "output_type": "display_data"
    }
   ],
   "source": [
    "from recommender import Recommender\n",
    "import pandas as pd \n",
    "import numpy as np\n",
    "import plotly.io as pio\n",
    "import plotly.offline as pyo\n",
    "import plotly.graph_objs as go\n",
    "from sklearn.model_selection import train_test_split\n",
    "from time import time\n",
    "\n",
    "pyo.init_notebook_mode(connected=True)"
   ]
  },
  {
   "cell_type": "code",
   "execution_count": 2,
   "metadata": {},
   "outputs": [],
   "source": [
    "# read in the json files\n",
    "portfolio = pd.read_json('example_data/portfolio.json', orient='records', lines=True)\n",
    "profile = pd.read_json('example_data/profile.json', orient='records', lines=True)\n",
    "transcript = pd.read_json('example_data/transcript.json', orient='records', lines=True)"
   ]
  },
  {
   "cell_type": "code",
   "execution_count": 3,
   "metadata": {},
   "outputs": [],
   "source": [
    "# instantiate a recommender object\n",
    "rec = Recommender()\n",
    "\n",
    "# fit the recommender to the data\n",
    "rec.fit(profile, portfolio, transcript)"
   ]
  },
  {
   "cell_type": "code",
   "execution_count": 4,
   "metadata": {},
   "outputs": [],
   "source": [
    "# get the cleaned data\n",
    "clean_portfolio = rec.clean_portfolio\n",
    "clean_profile = rec.clean_profile\n",
    "clean_transcript = rec.clean_transcript"
   ]
  },
  {
   "cell_type": "code",
   "execution_count": 5,
   "metadata": {},
   "outputs": [],
   "source": [
    "# split the profile in test and train data\n",
    "train_percentage = 0.8\n",
    "train_length = round(train_percentage * clean_transcript.shape[0])\n",
    "train_transcript = clean_transcript.head(n=train_length)\n",
    "test_length = clean_transcript.shape[0] - train_length\n",
    "test_transcript = clean_transcript.tail(n=test_length)"
   ]
  },
  {
   "cell_type": "code",
   "execution_count": 6,
   "metadata": {},
   "outputs": [],
   "source": [
    "# construct the train user item matrix\n",
    "train_user_item = rec._user_item(clean_profile, clean_portfolio, train_transcript)\n",
    "test_user_item = rec._user_item(clean_profile, clean_portfolio, test_transcript)\n",
    "\n",
    "# get the common users and offers in the test and train dataset\n",
    "common_users = set(train_user_item.index) & set(test_user_item.index)\n",
    "common_offers = set(train_user_item.columns) & set(test_user_item.columns)"
   ]
  },
  {
   "cell_type": "code",
   "execution_count": 56,
   "metadata": {
    "scrolled": true
   },
   "outputs": [
    {
     "name": "stdout",
     "output_type": "stream",
     "text": [
      "Latent features: 5\n",
      "Learning rate: 1e-05\n",
      "Loop time: 8.19\n",
      "--------------------\n",
      "Latent features: 5\n",
      "Learning rate: 2e-05\n",
      "Loop time: 8.21\n",
      "--------------------\n",
      "Latent features: 5\n",
      "Learning rate: 5e-05\n",
      "Loop time: 7.95\n",
      "--------------------\n",
      "Latent features: 5\n",
      "Learning rate: 0.0001\n",
      "Loop time: 7.92\n",
      "--------------------\n",
      "Latent features: 5\n",
      "Learning rate: 0.0002\n",
      "Loop time: 7.97\n",
      "--------------------\n",
      "Latent features: 5\n",
      "Learning rate: 0.0005\n",
      "Loop time: 7.85\n",
      "--------------------\n"
     ]
    },
    {
     "name": "stderr",
     "output_type": "stream",
     "text": [
      "C:\\Users\\edizh\\OneDrive\\Code\\Data_Science_Nanodegree\\Data_Scientist_Capstone\\Recommender\\recommender.py:264: RuntimeWarning:\n",
      "\n",
      "overflow encountered in double_scalars\n",
      "\n",
      "C:\\Users\\edizh\\OneDrive\\Code\\Data_Science_Nanodegree\\Data_Scientist_Capstone\\Recommender\\recommender.py:268: RuntimeWarning:\n",
      "\n",
      "overflow encountered in double_scalars\n",
      "\n",
      "C:\\Users\\edizh\\OneDrive\\Code\\Data_Science_Nanodegree\\Data_Scientist_Capstone\\Recommender\\recommender.py:269: RuntimeWarning:\n",
      "\n",
      "overflow encountered in double_scalars\n",
      "\n"
     ]
    },
    {
     "name": "stdout",
     "output_type": "stream",
     "text": [
      "Latent features: 5\n",
      "Learning rate: 0.001\n",
      "Loop time: 7.13\n",
      "--------------------\n",
      "Latent features: 10\n",
      "Learning rate: 1e-05\n",
      "Loop time: 11.53\n",
      "--------------------\n",
      "Latent features: 10\n",
      "Learning rate: 2e-05\n",
      "Loop time: 11.59\n",
      "--------------------\n",
      "Latent features: 10\n",
      "Learning rate: 5e-05\n",
      "Loop time: 13.60\n",
      "--------------------\n",
      "Latent features: 10\n",
      "Learning rate: 0.0001\n",
      "Loop time: 18.78\n",
      "--------------------\n",
      "Latent features: 10\n",
      "Learning rate: 0.0002\n",
      "Loop time: 12.45\n",
      "--------------------\n",
      "Latent features: 10\n",
      "Learning rate: 0.0005\n",
      "Loop time: 11.58\n",
      "--------------------\n",
      "Latent features: 10\n",
      "Learning rate: 0.001\n",
      "Loop time: 10.97\n",
      "--------------------\n",
      "Latent features: 20\n",
      "Learning rate: 1e-05\n",
      "Loop time: 18.62\n",
      "--------------------\n",
      "Latent features: 20\n",
      "Learning rate: 2e-05\n",
      "Loop time: 20.02\n",
      "--------------------\n",
      "Latent features: 20\n",
      "Learning rate: 5e-05\n",
      "Loop time: 19.47\n",
      "--------------------\n",
      "Latent features: 20\n",
      "Learning rate: 0.0001\n",
      "Loop time: 19.37\n",
      "--------------------\n",
      "Latent features: 20\n",
      "Learning rate: 0.0002\n",
      "Loop time: 20.96\n",
      "--------------------\n",
      "Latent features: 20\n",
      "Learning rate: 0.0005\n",
      "Loop time: 20.05\n",
      "--------------------\n",
      "Latent features: 20\n",
      "Learning rate: 0.001\n",
      "Loop time: 16.46\n",
      "--------------------\n",
      "Latent features: 30\n",
      "Learning rate: 1e-05\n",
      "Loop time: 24.86\n",
      "--------------------\n",
      "Latent features: 30\n",
      "Learning rate: 2e-05\n",
      "Loop time: 25.49\n",
      "--------------------\n",
      "Latent features: 30\n",
      "Learning rate: 5e-05\n",
      "Loop time: 25.33\n",
      "--------------------\n",
      "Latent features: 30\n",
      "Learning rate: 0.0001\n",
      "Loop time: 27.41\n",
      "--------------------\n",
      "Latent features: 30\n",
      "Learning rate: 0.0002\n",
      "Loop time: 26.79\n",
      "--------------------\n",
      "Latent features: 30\n",
      "Learning rate: 0.0005\n",
      "Loop time: 25.95\n",
      "--------------------\n",
      "Latent features: 30\n",
      "Learning rate: 0.001\n",
      "Loop time: 21.11\n",
      "--------------------\n",
      "Latent features: 40\n",
      "Learning rate: 1e-05\n",
      "Loop time: 32.09\n",
      "--------------------\n",
      "Latent features: 40\n",
      "Learning rate: 2e-05\n",
      "Loop time: 31.74\n",
      "--------------------\n",
      "Latent features: 40\n",
      "Learning rate: 5e-05\n",
      "Loop time: 40.04\n",
      "--------------------\n",
      "Latent features: 40\n",
      "Learning rate: 0.0001\n",
      "Loop time: 48.86\n",
      "--------------------\n",
      "Latent features: 40\n",
      "Learning rate: 0.0002\n",
      "Loop time: 46.59\n",
      "--------------------\n",
      "Latent features: 40\n",
      "Learning rate: 0.0005\n",
      "Loop time: 53.53\n",
      "--------------------\n",
      "Latent features: 40\n",
      "Learning rate: 0.001\n",
      "Loop time: 40.57\n",
      "--------------------\n",
      "Latent features: 50\n",
      "Learning rate: 1e-05\n",
      "Loop time: 50.64\n",
      "--------------------\n",
      "Latent features: 50\n",
      "Learning rate: 2e-05\n",
      "Loop time: 40.09\n",
      "--------------------\n",
      "Latent features: 50\n",
      "Learning rate: 5e-05\n",
      "Loop time: 44.08\n",
      "--------------------\n",
      "Latent features: 50\n",
      "Learning rate: 0.0001\n",
      "Loop time: 53.94\n",
      "--------------------\n",
      "Latent features: 50\n",
      "Learning rate: 0.0002\n",
      "Loop time: 39.78\n",
      "--------------------\n",
      "Latent features: 50\n",
      "Learning rate: 0.0005\n",
      "Loop time: 41.01\n",
      "--------------------\n",
      "Latent features: 50\n",
      "Learning rate: 0.001\n",
      "Loop time: 33.26\n",
      "--------------------\n",
      "Latent features: 100\n",
      "Learning rate: 1e-05\n",
      "Loop time: 77.13\n",
      "--------------------\n",
      "Latent features: 100\n",
      "Learning rate: 2e-05\n",
      "Loop time: 78.77\n",
      "--------------------\n",
      "Latent features: 100\n",
      "Learning rate: 5e-05\n",
      "Loop time: 92.09\n",
      "--------------------\n",
      "Latent features: 100\n",
      "Learning rate: 0.0001\n",
      "Loop time: 91.09\n",
      "--------------------\n",
      "Latent features: 100\n",
      "Learning rate: 0.0002\n",
      "Loop time: 95.36\n",
      "--------------------\n",
      "Latent features: 100\n",
      "Learning rate: 0.0005\n",
      "Loop time: 78.57\n",
      "--------------------\n",
      "Latent features: 100\n",
      "Learning rate: 0.001\n",
      "Loop time: 63.87\n",
      "--------------------\n"
     ]
    }
   ],
   "source": [
    "# define the parameter space for the grid search\n",
    "latent_feature_space = [5, 10, 20, 30, 40, 50, 100]\n",
    "learning_rate_space = [1e-5, 2e-5, 5e-5, 1e-4, 2e-4, 5e-4, 1e-3]\n",
    "\n",
    "# initialize an array with the summed squared error for each parameter setting\n",
    "summed_squared_error = np.zeros((len(latent_feature_space), len(learning_rate_space)))\n",
    "\n",
    "# perform parameter grid search\n",
    "for ii, latent_features in enumerate(latent_feature_space):\n",
    "    for jj, learning_rate in enumerate(learning_rate_space):\n",
    "        # get the start time of the current loop\n",
    "        start_time = time()\n",
    "        \n",
    "        # fill the train user item matrix\n",
    "        train_full_user_item = rec._matrix_factorization(train_user_item, iters=20, \n",
    "                                                         latent_features=latent_features, \n",
    "                                                         learning_rate=learning_rate)\n",
    "\n",
    "        # calculate the squared error\n",
    "        squared_error = (train_full_user_item.iloc[train_full_user_item.index.isin(common_users), train_full_user_item.columns.isin(common_offers)] \\\n",
    "        - test_user_item.loc[test_user_item.index.isin(common_users), test_user_item.columns.isin(common_offers)]) ** 2\n",
    "\n",
    "        # get the summed error\n",
    "        N = squared_error.isnull().sum().sum()\n",
    "        summed_squared_error[ii, jj] = (squared_error.values[~squared_error.isnull()].sum() / N)\n",
    "        \n",
    "        # display loop information\n",
    "        print(\"Latent features: {0}\".format(latent_features))\n",
    "        print(\"Learning rate: {0}\".format(learning_rate))\n",
    "        print(\"Loop time: {0:.2f}\".format(time() - start_time))\n",
    "        print(\"--------------------\")"
   ]
  },
  {
   "cell_type": "code",
   "execution_count": 57,
   "metadata": {
    "scrolled": false
   },
   "outputs": [
    {
     "data": {
      "application/vnd.plotly.v1+json": {
       "data": [
        {
         "name": "$\\alpha = 1e-05$",
         "opacity": 1,
         "type": "scatter",
         "uid": "afd0ed6a-2ddd-44cb-a5ce-05e2bbbf3888",
         "x": [
          5,
          10,
          20,
          30,
          40,
          50,
          100
         ],
         "y": [
          42.3262525504912,
          37.78609837964864,
          24.95288724013262,
          10.450130422347469,
          4.154549358916699,
          1.8713608675159183,
          0
         ]
        },
        {
         "name": "$\\alpha = 2e-05$",
         "opacity": 1,
         "type": "scatter",
         "uid": "e207dc22-bf6d-4768-b9cf-b15ae0d0c7fc",
         "x": [
          5,
          10,
          20,
          30,
          40,
          50,
          100
         ],
         "y": [
          41.10224635457266,
          39.01257151789498,
          31.763851671069617,
          10.577299306202873,
          2.2861052081775015,
          0.8775188664172815,
          0
         ]
        },
        {
         "name": "$\\alpha = 5e-05$",
         "opacity": 1,
         "type": "scatter",
         "uid": "75bbe2c1-02e0-4f4a-896e-3fb799b4148a",
         "x": [
          5,
          10,
          20,
          30,
          40,
          50,
          100
         ],
         "y": [
          41.164158709019254,
          39.98225245117146,
          35.62333613786183,
          8.93740459134066,
          1.5560103463293586,
          1.2751482049945606,
          0
         ]
        },
        {
         "name": "$\\alpha = 0.0001$",
         "opacity": 1,
         "type": "scatter",
         "uid": "a4493668-060c-45c6-a6bf-a8c5f58038ef",
         "x": [
          5,
          10,
          20,
          30,
          40,
          50,
          100
         ],
         "y": [
          41.18541939517481,
          40.389990031625665,
          36.43517839448578,
          7.142400058726348,
          2.0385252527766493,
          2.681937868118197,
          0
         ]
        },
        {
         "name": "$\\alpha = 0.0002$",
         "opacity": 1,
         "type": "scatter",
         "uid": "c4e3c172-fb6b-40e3-82e5-8bf3029e6d61",
         "x": [
          5,
          10,
          20,
          30,
          40,
          50,
          100
         ],
         "y": [
          41.28221076639669,
          40.652591879549675,
          35.50307992045888,
          6.214947205027214,
          2.3532494862897995,
          3.46876809485959,
          0
         ]
        },
        {
         "name": "$\\alpha = 0.0005$",
         "opacity": 1,
         "type": "scatter",
         "uid": "183957fd-3b28-4879-a836-b623f98e5baf",
         "x": [
          5,
          10,
          20,
          30,
          40,
          50,
          100
         ],
         "y": [
          41.34044650318343,
          40.65548924739299,
          35.840364786987045,
          6.671582971369371,
          2.40305198104424,
          3.7744004294339235,
          0
         ]
        },
        {
         "name": "$\\alpha = 0.001$",
         "opacity": 1,
         "type": "scatter",
         "uid": "2ee055bd-0b0a-4df2-8e3c-36cc3f563811",
         "x": [
          5,
          10,
          20,
          30,
          40,
          50,
          100
         ],
         "y": [
          41.42601068768342,
          40.87905466219567,
          32.687335467297316,
          6.969825820988371,
          3.762127070859912,
          3.957459575877503,
          0
         ]
        }
       ],
       "layout": {
        "autosize": false,
        "font": {
         "color": "rgb(0, 0, 0)",
         "size": 18
        },
        "height": 500,
        "legend": {
         "font": {
          "size": 14
         }
        },
        "title": "",
        "width": 600,
        "xaxis": {
         "title": "Latent features"
        },
        "yaxis": {
         "title": "SSE"
        }
       }
      },
      "text/html": [
       "<div id=\"c678fd64-7d2c-4b2e-8371-9f0b1f4969d7\" style=\"height: 500px; width: 600px;\" class=\"plotly-graph-div\"></div><script type=\"text/javascript\">require([\"plotly\"], function(Plotly) { window.PLOTLYENV=window.PLOTLYENV || {};window.PLOTLYENV.BASE_URL=\"https://plot.ly\";Plotly.newPlot(\"c678fd64-7d2c-4b2e-8371-9f0b1f4969d7\", [{\"name\": \"$\\\\alpha = 1e-05$\", \"opacity\": 1, \"x\": [5, 10, 20, 30, 40, 50, 100], \"y\": [42.3262525504912, 37.78609837964864, 24.95288724013262, 10.450130422347469, 4.154549358916699, 1.8713608675159183, 0.0], \"type\": \"scatter\", \"uid\": \"afd0ed6a-2ddd-44cb-a5ce-05e2bbbf3888\"}, {\"name\": \"$\\\\alpha = 2e-05$\", \"opacity\": 1, \"x\": [5, 10, 20, 30, 40, 50, 100], \"y\": [41.10224635457266, 39.01257151789498, 31.763851671069617, 10.577299306202873, 2.2861052081775015, 0.8775188664172815, 0.0], \"type\": \"scatter\", \"uid\": \"e207dc22-bf6d-4768-b9cf-b15ae0d0c7fc\"}, {\"name\": \"$\\\\alpha = 5e-05$\", \"opacity\": 1, \"x\": [5, 10, 20, 30, 40, 50, 100], \"y\": [41.164158709019254, 39.98225245117146, 35.62333613786183, 8.93740459134066, 1.5560103463293586, 1.2751482049945606, 0.0], \"type\": \"scatter\", \"uid\": \"75bbe2c1-02e0-4f4a-896e-3fb799b4148a\"}, {\"name\": \"$\\\\alpha = 0.0001$\", \"opacity\": 1, \"x\": [5, 10, 20, 30, 40, 50, 100], \"y\": [41.18541939517481, 40.389990031625665, 36.43517839448578, 7.142400058726348, 2.0385252527766493, 2.681937868118197, 0.0], \"type\": \"scatter\", \"uid\": \"a4493668-060c-45c6-a6bf-a8c5f58038ef\"}, {\"name\": \"$\\\\alpha = 0.0002$\", \"opacity\": 1, \"x\": [5, 10, 20, 30, 40, 50, 100], \"y\": [41.28221076639669, 40.652591879549675, 35.50307992045888, 6.214947205027214, 2.3532494862897995, 3.46876809485959, 0.0], \"type\": \"scatter\", \"uid\": \"c4e3c172-fb6b-40e3-82e5-8bf3029e6d61\"}, {\"name\": \"$\\\\alpha = 0.0005$\", \"opacity\": 1, \"x\": [5, 10, 20, 30, 40, 50, 100], \"y\": [41.34044650318343, 40.65548924739299, 35.840364786987045, 6.671582971369371, 2.40305198104424, 3.7744004294339235, 0.0], \"type\": \"scatter\", \"uid\": \"183957fd-3b28-4879-a836-b623f98e5baf\"}, {\"name\": \"$\\\\alpha = 0.001$\", \"opacity\": 1, \"x\": [5, 10, 20, 30, 40, 50, 100], \"y\": [41.42601068768342, 40.87905466219567, 32.687335467297316, 6.969825820988371, 3.762127070859912, 3.957459575877503, 0.0], \"type\": \"scatter\", \"uid\": \"2ee055bd-0b0a-4df2-8e3c-36cc3f563811\"}], {\"autosize\": false, \"font\": {\"color\": \"rgb(0, 0, 0)\", \"size\": 18}, \"height\": 500, \"legend\": {\"font\": {\"size\": 14}}, \"title\": \"\", \"width\": 600, \"xaxis\": {\"title\": \"Latent features\"}, \"yaxis\": {\"title\": \"SSE\"}}, {\"showLink\": true, \"linkText\": \"Export to plot.ly\"})});</script>"
      ],
      "text/vnd.plotly.v1+html": [
       "<div id=\"c678fd64-7d2c-4b2e-8371-9f0b1f4969d7\" style=\"height: 500px; width: 600px;\" class=\"plotly-graph-div\"></div><script type=\"text/javascript\">require([\"plotly\"], function(Plotly) { window.PLOTLYENV=window.PLOTLYENV || {};window.PLOTLYENV.BASE_URL=\"https://plot.ly\";Plotly.newPlot(\"c678fd64-7d2c-4b2e-8371-9f0b1f4969d7\", [{\"name\": \"$\\\\alpha = 1e-05$\", \"opacity\": 1, \"x\": [5, 10, 20, 30, 40, 50, 100], \"y\": [42.3262525504912, 37.78609837964864, 24.95288724013262, 10.450130422347469, 4.154549358916699, 1.8713608675159183, 0.0], \"type\": \"scatter\", \"uid\": \"afd0ed6a-2ddd-44cb-a5ce-05e2bbbf3888\"}, {\"name\": \"$\\\\alpha = 2e-05$\", \"opacity\": 1, \"x\": [5, 10, 20, 30, 40, 50, 100], \"y\": [41.10224635457266, 39.01257151789498, 31.763851671069617, 10.577299306202873, 2.2861052081775015, 0.8775188664172815, 0.0], \"type\": \"scatter\", \"uid\": \"e207dc22-bf6d-4768-b9cf-b15ae0d0c7fc\"}, {\"name\": \"$\\\\alpha = 5e-05$\", \"opacity\": 1, \"x\": [5, 10, 20, 30, 40, 50, 100], \"y\": [41.164158709019254, 39.98225245117146, 35.62333613786183, 8.93740459134066, 1.5560103463293586, 1.2751482049945606, 0.0], \"type\": \"scatter\", \"uid\": \"75bbe2c1-02e0-4f4a-896e-3fb799b4148a\"}, {\"name\": \"$\\\\alpha = 0.0001$\", \"opacity\": 1, \"x\": [5, 10, 20, 30, 40, 50, 100], \"y\": [41.18541939517481, 40.389990031625665, 36.43517839448578, 7.142400058726348, 2.0385252527766493, 2.681937868118197, 0.0], \"type\": \"scatter\", \"uid\": \"a4493668-060c-45c6-a6bf-a8c5f58038ef\"}, {\"name\": \"$\\\\alpha = 0.0002$\", \"opacity\": 1, \"x\": [5, 10, 20, 30, 40, 50, 100], \"y\": [41.28221076639669, 40.652591879549675, 35.50307992045888, 6.214947205027214, 2.3532494862897995, 3.46876809485959, 0.0], \"type\": \"scatter\", \"uid\": \"c4e3c172-fb6b-40e3-82e5-8bf3029e6d61\"}, {\"name\": \"$\\\\alpha = 0.0005$\", \"opacity\": 1, \"x\": [5, 10, 20, 30, 40, 50, 100], \"y\": [41.34044650318343, 40.65548924739299, 35.840364786987045, 6.671582971369371, 2.40305198104424, 3.7744004294339235, 0.0], \"type\": \"scatter\", \"uid\": \"183957fd-3b28-4879-a836-b623f98e5baf\"}, {\"name\": \"$\\\\alpha = 0.001$\", \"opacity\": 1, \"x\": [5, 10, 20, 30, 40, 50, 100], \"y\": [41.42601068768342, 40.87905466219567, 32.687335467297316, 6.969825820988371, 3.762127070859912, 3.957459575877503, 0.0], \"type\": \"scatter\", \"uid\": \"2ee055bd-0b0a-4df2-8e3c-36cc3f563811\"}], {\"autosize\": false, \"font\": {\"color\": \"rgb(0, 0, 0)\", \"size\": 18}, \"height\": 500, \"legend\": {\"font\": {\"size\": 14}}, \"title\": \"\", \"width\": 600, \"xaxis\": {\"title\": \"Latent features\"}, \"yaxis\": {\"title\": \"SSE\"}}, {\"showLink\": true, \"linkText\": \"Export to plot.ly\"})});</script>"
      ]
     },
     "metadata": {},
     "output_type": "display_data"
    }
   ],
   "source": [
    "data = []\n",
    "\n",
    "for ii in range(summed_squared_error.shape[1]):\n",
    "    data.append(\n",
    "        go.Scatter(\n",
    "                    x=latent_feature_space,\n",
    "                    y=summed_squared_error[ii, :],\n",
    "                    opacity=1,\n",
    "                    name=\"$\\\\alpha = {0}$\".format(learning_rate_space[ii])\n",
    "                    )\n",
    "        )\n",
    "\n",
    "layout =  go.Layout(\n",
    "                autosize=False,\n",
    "                width=600,\n",
    "                height=500,\n",
    "                title=\"\",\n",
    "                font=dict(\n",
    "                    size=18,\n",
    "                    color='rgb(0, 0, 0)',                    \n",
    "                ),\n",
    "                xaxis=dict(\n",
    "                    title='Latent features',\n",
    "                ),\n",
    "                yaxis=dict(\n",
    "                    title='SSE',\n",
    "                ),\n",
    "                legend=dict(\n",
    "                    font=dict(size=14))\n",
    "                    )\n",
    "\n",
    "fig_grid_search_scatter = go.Figure(data=data, layout=layout)\n",
    "    \n",
    "pyo.iplot(fig_grid_search_scatter)"
   ]
  },
  {
   "cell_type": "code",
   "execution_count": 38,
   "metadata": {},
   "outputs": [
    {
     "name": "stdout",
     "output_type": "stream",
     "text": [
      "Iterations: 10\n",
      "Loop time: 14.70\n",
      "--------------------\n",
      "Iterations: 20\n",
      "Loop time: 28.97\n",
      "--------------------\n",
      "Iterations: 50\n",
      "Loop time: 74.11\n",
      "--------------------\n",
      "Iterations: 100\n",
      "Loop time: 162.00\n",
      "--------------------\n",
      "Iterations: 200\n",
      "Loop time: 323.86\n",
      "--------------------\n",
      "Iterations: 500\n",
      "Loop time: 757.57\n",
      "--------------------\n"
     ]
    }
   ],
   "source": [
    "# define the range of iterations\n",
    "iters_space = [10, 20, 50, 100, 200, 500]\n",
    "\n",
    "# initialize an array with the summed squared error for the different numbers of iterations\n",
    "summed_squared_error = np.zeros((len(iters_space), 1))\n",
    "\n",
    "# loop through the different numbers of iterations\n",
    "for ii, iters in enumerate(iters_space):\n",
    "        # get the start time of the current loop\n",
    "        start_time = time()\n",
    "        \n",
    "        # fill the train user item matrix\n",
    "        train_full_user_item = rec._matrix_factorization(train_user_item, iters=iters, \n",
    "                                                         latent_features=35, \n",
    "                                                         learning_rate=2e-4)\n",
    "\n",
    "        # calculate the squared error\n",
    "        squared_error = (train_full_user_item.iloc[train_full_user_item.index.isin(common_users), train_full_user_item.columns.isin(common_offers)] \\\n",
    "        - test_user_item.loc[test_user_item.index.isin(common_users), test_user_item.columns.isin(common_offers)]) ** 2\n",
    "\n",
    "        # get the summed error\n",
    "        N = squared_error.isnull().sum().sum()\n",
    "        summed_squared_error[ii] = (squared_error.values[~squared_error.isnull()].sum() / N)\n",
    "        \n",
    "        # display loop information\n",
    "        print(\"Iterations: {0}\".format(iters))\n",
    "        print(\"Loop time: {0:.2f}\".format(time() - start_time))\n",
    "        print(\"--------------------\")"
   ]
  },
  {
   "cell_type": "code",
   "execution_count": 54,
   "metadata": {},
   "outputs": [
    {
     "data": {
      "application/vnd.plotly.v1+json": {
       "data": [
        {
         "opacity": 1,
         "type": "scatter",
         "uid": "ae3a096f-6504-448d-8bd5-303aec4ace27",
         "x": [
          10,
          20,
          50,
          100,
          200,
          500
         ],
         "y": [
          6.542470201809737,
          2.476057623674524,
          1.4853156812084916,
          0.9035812413987128,
          2.4298538904754516,
          1.3686834074952332
         ]
        }
       ],
       "layout": {
        "autosize": false,
        "font": {
         "color": "rgb(0, 0, 0)",
         "size": 18
        },
        "height": 500,
        "title": "",
        "width": 600,
        "xaxis": {
         "title": "Iterations"
        },
        "yaxis": {
         "title": "SSE"
        }
       }
      },
      "text/html": [
       "<div id=\"2a704bd5-fec8-467f-905c-493679147fba\" style=\"height: 500px; width: 600px;\" class=\"plotly-graph-div\"></div><script type=\"text/javascript\">require([\"plotly\"], function(Plotly) { window.PLOTLYENV=window.PLOTLYENV || {};window.PLOTLYENV.BASE_URL=\"https://plot.ly\";Plotly.newPlot(\"2a704bd5-fec8-467f-905c-493679147fba\", [{\"opacity\": 1, \"x\": [10, 20, 50, 100, 200, 500], \"y\": [6.542470201809737, 2.476057623674524, 1.4853156812084916, 0.9035812413987128, 2.4298538904754516, 1.3686834074952332], \"type\": \"scatter\", \"uid\": \"ae3a096f-6504-448d-8bd5-303aec4ace27\"}], {\"autosize\": false, \"font\": {\"color\": \"rgb(0, 0, 0)\", \"size\": 18}, \"height\": 500, \"title\": \"\", \"width\": 600, \"xaxis\": {\"title\": \"Iterations\"}, \"yaxis\": {\"title\": \"SSE\"}}, {\"showLink\": true, \"linkText\": \"Export to plot.ly\"})});</script>"
      ],
      "text/vnd.plotly.v1+html": [
       "<div id=\"2a704bd5-fec8-467f-905c-493679147fba\" style=\"height: 500px; width: 600px;\" class=\"plotly-graph-div\"></div><script type=\"text/javascript\">require([\"plotly\"], function(Plotly) { window.PLOTLYENV=window.PLOTLYENV || {};window.PLOTLYENV.BASE_URL=\"https://plot.ly\";Plotly.newPlot(\"2a704bd5-fec8-467f-905c-493679147fba\", [{\"opacity\": 1, \"x\": [10, 20, 50, 100, 200, 500], \"y\": [6.542470201809737, 2.476057623674524, 1.4853156812084916, 0.9035812413987128, 2.4298538904754516, 1.3686834074952332], \"type\": \"scatter\", \"uid\": \"ae3a096f-6504-448d-8bd5-303aec4ace27\"}], {\"autosize\": false, \"font\": {\"color\": \"rgb(0, 0, 0)\", \"size\": 18}, \"height\": 500, \"title\": \"\", \"width\": 600, \"xaxis\": {\"title\": \"Iterations\"}, \"yaxis\": {\"title\": \"SSE\"}}, {\"showLink\": true, \"linkText\": \"Export to plot.ly\"})});</script>"
      ]
     },
     "metadata": {},
     "output_type": "display_data"
    }
   ],
   "source": [
    "trace = go.Scatter(\n",
    "                x=iters_space,\n",
    "                y=summed_squared_error.flatten(),\n",
    "                opacity=1,\n",
    "                )\n",
    "\n",
    "layout =  go.Layout(\n",
    "                autosize=False,\n",
    "                width=600,\n",
    "                height=500,\n",
    "                title=\"\",\n",
    "                font=dict(\n",
    "                    size=18,\n",
    "                    color='rgb(0, 0, 0)',                    \n",
    "                ),\n",
    "                xaxis=dict(\n",
    "                    title='Iterations',\n",
    "                ),\n",
    "                yaxis=dict(\n",
    "                    title='SSE',\n",
    "                )\n",
    "            )\n",
    "\n",
    "data = [trace]\n",
    "\n",
    "fig_iters_scatter = go.Figure(data=data, layout=layout)\n",
    "    \n",
    "pyo.iplot(fig_iters_scatter)"
   ]
  },
  {
   "cell_type": "code",
   "execution_count": 58,
   "metadata": {
    "scrolled": true
   },
   "outputs": [],
   "source": [
    "pio.write_image(fig_iters_scatter, 'exports/fig_iters_scatter.png')\n",
    "pio.write_image(fig_grid_search_scatter, 'exports/fig_grid_search_scatter.png')"
   ]
  },
  {
   "cell_type": "code",
   "execution_count": null,
   "metadata": {},
   "outputs": [],
   "source": []
  },
  {
   "cell_type": "code",
   "execution_count": null,
   "metadata": {},
   "outputs": [],
   "source": []
  },
  {
   "cell_type": "code",
   "execution_count": null,
   "metadata": {},
   "outputs": [],
   "source": []
  }
 ],
 "metadata": {
  "kernelspec": {
   "display_name": "Python 3",
   "language": "python",
   "name": "python3"
  },
  "language_info": {
   "codemirror_mode": {
    "name": "ipython",
    "version": 3
   },
   "file_extension": ".py",
   "mimetype": "text/x-python",
   "name": "python",
   "nbconvert_exporter": "python",
   "pygments_lexer": "ipython3",
   "version": "3.6.8"
  }
 },
 "nbformat": 4,
 "nbformat_minor": 2
}
