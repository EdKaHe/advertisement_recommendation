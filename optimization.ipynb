{
 "cells": [
  {
   "cell_type": "code",
   "execution_count": 1,
   "metadata": {},
   "outputs": [
    {
     "data": {
      "text/html": [
       "<script type=\"text/javascript\">window.PlotlyConfig = {MathJaxConfig: 'local'};</script><script type=\"text/javascript\">if (window.MathJax) {MathJax.Hub.Config({SVG: {font: \"STIX-Web\"}});}</script><script>requirejs.config({paths: { 'plotly': ['https://cdn.plot.ly/plotly-latest.min']},});if(!window._Plotly) {require(['plotly'],function(plotly) {window._Plotly=plotly;});}</script>"
      ],
      "text/vnd.plotly.v1+html": [
       "<script type=\"text/javascript\">window.PlotlyConfig = {MathJaxConfig: 'local'};</script><script type=\"text/javascript\">if (window.MathJax) {MathJax.Hub.Config({SVG: {font: \"STIX-Web\"}});}</script><script>requirejs.config({paths: { 'plotly': ['https://cdn.plot.ly/plotly-latest.min']},});if(!window._Plotly) {require(['plotly'],function(plotly) {window._Plotly=plotly;});}</script>"
      ]
     },
     "metadata": {},
     "output_type": "display_data"
    }
   ],
   "source": [
    "from recommender import Recommender\n",
    "import pandas as pd \n",
    "import numpy as np\n",
    "import plotly.io as pio\n",
    "import plotly.offline as pyo\n",
    "import plotly.graph_objs as go\n",
    "from sklearn.model_selection import train_test_split\n",
    "\n",
    "pyo.init_notebook_mode(connected=True)"
   ]
  },
  {
   "cell_type": "code",
   "execution_count": 2,
   "metadata": {},
   "outputs": [],
   "source": [
    "# read in the json files\n",
    "portfolio = pd.read_json('example_data/portfolio.json', orient='records', lines=True)\n",
    "profile = pd.read_json('example_data/profile.json', orient='records', lines=True)\n",
    "transcript = pd.read_json('example_data/transcript.json', orient='records', lines=True)"
   ]
  },
  {
   "cell_type": "code",
   "execution_count": null,
   "metadata": {},
   "outputs": [],
   "source": [
    "# instantiate a recommender object\n",
    "rec = Recommender()\n",
    "\n",
    "# fit the recommender to the data\n",
    "rec.fit(profile, portfolio, transcript)"
   ]
  },
  {
   "cell_type": "code",
   "execution_count": null,
   "metadata": {},
   "outputs": [],
   "source": [
    "# get the cleaned data\n",
    "clean_portfolio = rec.clean_portfolio\n",
    "clean_profile = rec.clean_profile\n",
    "clean_transcript = rec.clean_transcript"
   ]
  },
  {
   "cell_type": "code",
   "execution_count": null,
   "metadata": {},
   "outputs": [],
   "source": [
    "# split the profile in test and train data\n",
    "train_percentage = 0.8\n",
    "train_length = round(train_percentage * clean_transcript.shape[0])\n",
    "train_transcript = clean_transcript.head(n=train_length)\n",
    "test_length = clean_transcript.shape[0] - train_length\n",
    "test_transcript = clean_transcript.tail(n=test_length)"
   ]
  },
  {
   "cell_type": "code",
   "execution_count": null,
   "metadata": {},
   "outputs": [],
   "source": [
    "# construct the train user item matrix\n",
    "train_user_item = rec._user_item(clean_profile, clean_portfolio, train_transcript)\n",
    "test_user_item = rec._user_item(clean_profile, clean_portfolio, test_transcript)\n",
    "\n",
    "# get the common users and offers in the test and train dataset\n",
    "common_users = set(train_user_item.index) & set(test_user_item.index)\n",
    "common_offers = set(train_user_item.columns) & set(test_user_item.columns)"
   ]
  },
  {
   "cell_type": "code",
   "execution_count": null,
   "metadata": {
    "scrolled": true
   },
   "outputs": [],
   "source": [
    "# define the parameter space for the grid search\n",
    "latent_feature_space = [2, 5, 10, 20, 30, 40, 50, 100]\n",
    "learning_rate_space = [1e-4, 1e-3, 2e-3, 5e-3, 1e-2, 2e-2, 5e-2]\n",
    "\n",
    "# initialize an array with the summed squared error for each parameter setting\n",
    "summed_squared_error = np.zeros((len(latent_feature_space), len(learning_rate_space)))\n",
    "\n",
    "for ii, latent_features in enumerate(latent_feature_space):\n",
    "    for jj, learning_rate in enumerate(learning_rate_space):\n",
    "        # fill the train user item matrix\n",
    "        train_full_user_item = rec._matrix_factorization(train_user_item, iters=100, \n",
    "                                                         latent_features=latent_features, \n",
    "                                                         learning_rate=learning_rate)\n",
    "\n",
    "        # calculate the squared error\n",
    "        squared_error = (train_full_user_item.iloc[train_full_user_item.index.isin(common_users), train_full_user_item.columns.isin(common_offers)] \\\n",
    "        - test_user_item.loc[test_user_item.index.isin(common_users), test_user_item.columns.isin(common_offers)]) ** 2\n",
    "\n",
    "        # get the summed error\n",
    "        N = squared_error.isnull().sum().sum()\n",
    "        summed_squared_error[ii, jj] = (squared_error.values[~squared_error.isnull()].sum() / N)"
   ]
  },
  {
   "cell_type": "code",
   "execution_count": null,
   "metadata": {
    "scrolled": false
   },
   "outputs": [],
   "source": [
    "for ii in range(summed_squared_error.shape[1]):\n",
    "    data.append(\n",
    "        go.Scatter(\n",
    "                    x=latent_feature_space,\n",
    "                    y=summed_squared_error[ii, :],\n",
    "                    opacity=1,\n",
    "                    name=\"$\\alpha$ = \" + str(learning_rate_space[ii])\n",
    "                    )\n",
    "        )\n",
    "\n",
    "layout =  go.Layout(\n",
    "                autosize=False,\n",
    "                width=500,\n",
    "                height=500,\n",
    "                title=\"\",\n",
    "                font=dict(\n",
    "                    size=18,\n",
    "                    color='rgb(0, 0, 0)',                    \n",
    "                ),\n",
    "                xaxis=dict(\n",
    "                    title='Latent features',\n",
    "                ),\n",
    "                yaxis=dict(\n",
    "                    title='Frequency (%)',\n",
    "                )\n",
    "                    )\n",
    "\n",
    "fig_opti_scatter = go.Figure(data=data, layout=layout)\n",
    "    \n",
    "pyo.iplot(fig_opti_scatter)"
   ]
  },
  {
   "cell_type": "code",
   "execution_count": null,
   "metadata": {
    "scrolled": true
   },
   "outputs": [],
   "source": [
    "pio.write_image(fig_optimize_scatter, 'exports/fig_opti_scatter.png')"
   ]
  },
  {
   "cell_type": "code",
   "execution_count": null,
   "metadata": {},
   "outputs": [],
   "source": []
  },
  {
   "cell_type": "code",
   "execution_count": null,
   "metadata": {},
   "outputs": [],
   "source": []
  }
 ],
 "metadata": {
  "kernelspec": {
   "display_name": "Python 3",
   "language": "python",
   "name": "python3"
  },
  "language_info": {
   "codemirror_mode": {
    "name": "ipython",
    "version": 3
   },
   "file_extension": ".py",
   "mimetype": "text/x-python",
   "name": "python",
   "nbconvert_exporter": "python",
   "pygments_lexer": "ipython3",
   "version": "3.6.8"
  }
 },
 "nbformat": 4,
 "nbformat_minor": 2
}
